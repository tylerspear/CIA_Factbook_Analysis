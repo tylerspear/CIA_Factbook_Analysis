{
 "cells": [
  {
   "cell_type": "code",
   "execution_count": 10,
   "id": "c7774d30-cf49-4d01-beac-0a75a1a647f9",
   "metadata": {},
   "outputs": [
    {
     "name": "stdout",
     "output_type": "stream",
     "text": [
      "The sql extension is already loaded. To reload it, use:\n",
      "  %reload_ext sql\n"
     ]
    },
    {
     "data": {
      "text/plain": [
       "'Connected: @factbook.db'"
      ]
     },
     "execution_count": 10,
     "metadata": {},
     "output_type": "execute_result"
    }
   ],
   "source": [
    "import sqlalchemy\n",
    "sqlalchemy.create_engine('sqlite:///factbook.db')\n",
    "%load_ext sql\n",
    "%sql sqlite:///factbook.db"
   ]
  },
  {
   "cell_type": "markdown",
   "id": "663887c1-d2e3-4730-93a7-e9b2cc773c51",
   "metadata": {},
   "source": [
    "# Data Overview\n",
    "\n",
    "We'll take a quick look at the first 5 rows of the database to get an idea of the data contained in it."
   ]
  },
  {
   "cell_type": "code",
   "execution_count": 11,
   "id": "3448a9ef-45e6-411b-b560-558f26e02478",
   "metadata": {},
   "outputs": [
    {
     "name": "stdout",
     "output_type": "stream",
     "text": [
      " * sqlite:///factbook.db\n",
      "Done.\n"
     ]
    },
    {
     "data": {
      "text/html": [
       "<table>\n",
       "    <thead>\n",
       "        <tr>\n",
       "            <th>id</th>\n",
       "            <th>code</th>\n",
       "            <th>name</th>\n",
       "            <th>area</th>\n",
       "            <th>area_land</th>\n",
       "            <th>area_water</th>\n",
       "            <th>population</th>\n",
       "            <th>population_growth</th>\n",
       "            <th>birth_rate</th>\n",
       "            <th>death_rate</th>\n",
       "            <th>migration_rate</th>\n",
       "        </tr>\n",
       "    </thead>\n",
       "    <tbody>\n",
       "        <tr>\n",
       "            <td>1</td>\n",
       "            <td>af</td>\n",
       "            <td>Afghanistan</td>\n",
       "            <td>652230</td>\n",
       "            <td>652230</td>\n",
       "            <td>0</td>\n",
       "            <td>32564342</td>\n",
       "            <td>2.32</td>\n",
       "            <td>38.57</td>\n",
       "            <td>13.89</td>\n",
       "            <td>1.51</td>\n",
       "        </tr>\n",
       "        <tr>\n",
       "            <td>2</td>\n",
       "            <td>al</td>\n",
       "            <td>Albania</td>\n",
       "            <td>28748</td>\n",
       "            <td>27398</td>\n",
       "            <td>1350</td>\n",
       "            <td>3029278</td>\n",
       "            <td>0.3</td>\n",
       "            <td>12.92</td>\n",
       "            <td>6.58</td>\n",
       "            <td>3.3</td>\n",
       "        </tr>\n",
       "        <tr>\n",
       "            <td>3</td>\n",
       "            <td>ag</td>\n",
       "            <td>Algeria</td>\n",
       "            <td>2381741</td>\n",
       "            <td>2381741</td>\n",
       "            <td>0</td>\n",
       "            <td>39542166</td>\n",
       "            <td>1.84</td>\n",
       "            <td>23.67</td>\n",
       "            <td>4.31</td>\n",
       "            <td>0.92</td>\n",
       "        </tr>\n",
       "        <tr>\n",
       "            <td>4</td>\n",
       "            <td>an</td>\n",
       "            <td>Andorra</td>\n",
       "            <td>468</td>\n",
       "            <td>468</td>\n",
       "            <td>0</td>\n",
       "            <td>85580</td>\n",
       "            <td>0.12</td>\n",
       "            <td>8.13</td>\n",
       "            <td>6.96</td>\n",
       "            <td>0.0</td>\n",
       "        </tr>\n",
       "        <tr>\n",
       "            <td>5</td>\n",
       "            <td>ao</td>\n",
       "            <td>Angola</td>\n",
       "            <td>1246700</td>\n",
       "            <td>1246700</td>\n",
       "            <td>0</td>\n",
       "            <td>19625353</td>\n",
       "            <td>2.78</td>\n",
       "            <td>38.78</td>\n",
       "            <td>11.49</td>\n",
       "            <td>0.46</td>\n",
       "        </tr>\n",
       "    </tbody>\n",
       "</table>"
      ],
      "text/plain": [
       "[(1, 'af', 'Afghanistan', 652230, 652230, 0, 32564342, 2.32, 38.57, 13.89, 1.51),\n",
       " (2, 'al', 'Albania', 28748, 27398, 1350, 3029278, 0.3, 12.92, 6.58, 3.3),\n",
       " (3, 'ag', 'Algeria', 2381741, 2381741, 0, 39542166, 1.84, 23.67, 4.31, 0.92),\n",
       " (4, 'an', 'Andorra', 468, 468, 0, 85580, 0.12, 8.13, 6.96, 0.0),\n",
       " (5, 'ao', 'Angola', 1246700, 1246700, 0, 19625353, 2.78, 38.78, 11.49, 0.46)]"
      ]
     },
     "execution_count": 11,
     "metadata": {},
     "output_type": "execute_result"
    }
   ],
   "source": [
    "%%sql\n",
    "SELECT *\n",
    "FROM facts\n",
    "LIMIT 5;"
   ]
  },
  {
   "cell_type": "markdown",
   "id": "a45c8c2d-a5b5-4a69-aee0-b8fe43c28f56",
   "metadata": {},
   "source": [
    "Here are the descriptions for some of the columns:\n",
    "\n",
    "1. name - The name of the country.\n",
    "2. area - The total land and sea area of the country.\n",
    "3. population - The country's population.\n",
    "4. population_growth- The country's population growth as a percentage.\n",
    "5. birth_rate - The country's birth rate, or the number of births a year per 1,000 people.\n",
    "6. death_rate - The country's death rate, or the number of death a year per 1,000 people.\n",
    "7. area- The country's total area (both land and water).\n",
    "8. area_land - The country's land area in square kilometers.\n",
    "9. area_water - The country's waterarea in square kilometers.\n",
    "\n",
    "# Summary Stats"
   ]
  },
  {
   "cell_type": "code",
   "execution_count": 12,
   "id": "63140461-3ab5-451a-8d9f-aaddac843450",
   "metadata": {},
   "outputs": [
    {
     "name": "stdout",
     "output_type": "stream",
     "text": [
      " * sqlite:///factbook.db\n",
      "Done.\n"
     ]
    },
    {
     "data": {
      "text/html": [
       "<table>\n",
       "    <thead>\n",
       "        <tr>\n",
       "            <th>MIN(population)</th>\n",
       "            <th>MAX(population)</th>\n",
       "            <th>MIN(population_growth)</th>\n",
       "            <th>MAX(population_growth)</th>\n",
       "        </tr>\n",
       "    </thead>\n",
       "    <tbody>\n",
       "        <tr>\n",
       "            <td>0</td>\n",
       "            <td>7256490011</td>\n",
       "            <td>0.0</td>\n",
       "            <td>4.02</td>\n",
       "        </tr>\n",
       "    </tbody>\n",
       "</table>"
      ],
      "text/plain": [
       "[(0, 7256490011, 0.0, 4.02)]"
      ]
     },
     "execution_count": 12,
     "metadata": {},
     "output_type": "execute_result"
    }
   ],
   "source": [
    "%%sql\n",
    "SELECT \n",
    "    MIN(population), \n",
    "    MAX(population), \n",
    "    MIN(population_growth), \n",
    "    MAX(population_growth)\n",
    "FROM facts"
   ]
  },
  {
   "cell_type": "markdown",
   "id": "f55c466d-3df1-462f-a0d3-9273107cb9b9",
   "metadata": {},
   "source": [
    "There is a country with a population of 0 and a country with a population of 7256490011.\n",
    "I'll identify those 2 countries below"
   ]
  },
  {
   "cell_type": "code",
   "execution_count": 17,
   "id": "727e4f60-daec-43a3-b646-f24b598ed623",
   "metadata": {},
   "outputs": [
    {
     "name": "stdout",
     "output_type": "stream",
     "text": [
      " * sqlite:///factbook.db\n",
      "Done.\n"
     ]
    },
    {
     "data": {
      "text/html": [
       "<table>\n",
       "    <thead>\n",
       "        <tr>\n",
       "            <th>id</th>\n",
       "            <th>code</th>\n",
       "            <th>name</th>\n",
       "            <th>area</th>\n",
       "            <th>area_land</th>\n",
       "            <th>area_water</th>\n",
       "            <th>population</th>\n",
       "            <th>population_growth</th>\n",
       "            <th>birth_rate</th>\n",
       "            <th>death_rate</th>\n",
       "            <th>migration_rate</th>\n",
       "        </tr>\n",
       "    </thead>\n",
       "    <tbody>\n",
       "        <tr>\n",
       "            <td>250</td>\n",
       "            <td>ay</td>\n",
       "            <td>Antarctica</td>\n",
       "            <td>None</td>\n",
       "            <td>280000</td>\n",
       "            <td>None</td>\n",
       "            <td>0</td>\n",
       "            <td>None</td>\n",
       "            <td>None</td>\n",
       "            <td>None</td>\n",
       "            <td>None</td>\n",
       "        </tr>\n",
       "    </tbody>\n",
       "</table>"
      ],
      "text/plain": [
       "[(250, 'ay', 'Antarctica', None, 280000, None, 0, None, None, None, None)]"
      ]
     },
     "execution_count": 17,
     "metadata": {},
     "output_type": "execute_result"
    }
   ],
   "source": [
    "%%sql\n",
    "SELECT *\n",
    "FROM facts\n",
    "WHERE population == (SELECT MIN(population) from facts);\n",
    "    "
   ]
  },
  {
   "cell_type": "code",
   "execution_count": 18,
   "id": "d9df045c-6b0f-4fef-9ad2-2e16558a9448",
   "metadata": {},
   "outputs": [
    {
     "name": "stdout",
     "output_type": "stream",
     "text": [
      " * sqlite:///factbook.db\n",
      "Done.\n"
     ]
    },
    {
     "data": {
      "text/html": [
       "<table>\n",
       "    <thead>\n",
       "        <tr>\n",
       "            <th>id</th>\n",
       "            <th>code</th>\n",
       "            <th>name</th>\n",
       "            <th>area</th>\n",
       "            <th>area_land</th>\n",
       "            <th>area_water</th>\n",
       "            <th>population</th>\n",
       "            <th>population_growth</th>\n",
       "            <th>birth_rate</th>\n",
       "            <th>death_rate</th>\n",
       "            <th>migration_rate</th>\n",
       "        </tr>\n",
       "    </thead>\n",
       "    <tbody>\n",
       "        <tr>\n",
       "            <td>261</td>\n",
       "            <td>xx</td>\n",
       "            <td>World</td>\n",
       "            <td>None</td>\n",
       "            <td>None</td>\n",
       "            <td>None</td>\n",
       "            <td>7256490011</td>\n",
       "            <td>1.08</td>\n",
       "            <td>18.6</td>\n",
       "            <td>7.8</td>\n",
       "            <td>None</td>\n",
       "        </tr>\n",
       "    </tbody>\n",
       "</table>"
      ],
      "text/plain": [
       "[(261, 'xx', 'World', None, None, None, 7256490011, 1.08, 18.6, 7.8, None)]"
      ]
     },
     "execution_count": 18,
     "metadata": {},
     "output_type": "execute_result"
    }
   ],
   "source": [
    "%%sql\n",
    "SELECT *\n",
    "FROM facts\n",
    "WHERE population == (SELECT MAX(population) from facts);"
   ]
  },
  {
   "cell_type": "markdown",
   "id": "28bf0117-ff58-4c78-b033-fac38e39fcd5",
   "metadata": {},
   "source": [
    "There is a row for the entire world population combined. In future analysis we wshould exclude this row"
   ]
  },
  {
   "cell_type": "code",
   "execution_count": 20,
   "id": "26b7567a-d37d-46b2-b0ab-e9b36ab9dbc0",
   "metadata": {},
   "outputs": [
    {
     "name": "stdout",
     "output_type": "stream",
     "text": [
      " * sqlite:///factbook.db\n",
      "Done.\n"
     ]
    },
    {
     "data": {
      "text/html": [
       "<table>\n",
       "    <thead>\n",
       "        <tr>\n",
       "            <th>MIN(population)</th>\n",
       "            <th>MAX(population)</th>\n",
       "            <th>MIN(population_growth)</th>\n",
       "            <th>MAX(population_growth)</th>\n",
       "        </tr>\n",
       "    </thead>\n",
       "    <tbody>\n",
       "        <tr>\n",
       "            <td>0</td>\n",
       "            <td>1367485388</td>\n",
       "            <td>0.0</td>\n",
       "            <td>4.02</td>\n",
       "        </tr>\n",
       "    </tbody>\n",
       "</table>"
      ],
      "text/plain": [
       "[(0, 1367485388, 0.0, 4.02)]"
      ]
     },
     "execution_count": 20,
     "metadata": {},
     "output_type": "execute_result"
    }
   ],
   "source": [
    "%%sql\n",
    "SELECT \n",
    "    MIN(population),\n",
    "    MAX(population),\n",
    "    MIN(population_growth),\n",
    "    MAX(population_growth)\n",
    "FROM facts\n",
    "WHERE name <> 'World';"
   ]
  },
  {
   "cell_type": "code",
   "execution_count": 24,
   "id": "fc642fe2-5c09-4a8c-b1ce-b4d90bcc99a1",
   "metadata": {},
   "outputs": [
    {
     "name": "stdout",
     "output_type": "stream",
     "text": [
      " * sqlite:///factbook.db\n",
      "Done.\n"
     ]
    },
    {
     "data": {
      "text/html": [
       "<table>\n",
       "    <thead>\n",
       "        <tr>\n",
       "            <th>id</th>\n",
       "            <th>code</th>\n",
       "            <th>name</th>\n",
       "            <th>area</th>\n",
       "            <th>area_land</th>\n",
       "            <th>area_water</th>\n",
       "            <th>population</th>\n",
       "            <th>population_growth</th>\n",
       "            <th>birth_rate</th>\n",
       "            <th>death_rate</th>\n",
       "            <th>migration_rate</th>\n",
       "        </tr>\n",
       "    </thead>\n",
       "    <tbody>\n",
       "        <tr>\n",
       "            <td>37</td>\n",
       "            <td>ch</td>\n",
       "            <td>China</td>\n",
       "            <td>9596960</td>\n",
       "            <td>9326410</td>\n",
       "            <td>270550</td>\n",
       "            <td>1367485388</td>\n",
       "            <td>0.45</td>\n",
       "            <td>12.49</td>\n",
       "            <td>7.53</td>\n",
       "            <td>0.44</td>\n",
       "        </tr>\n",
       "    </tbody>\n",
       "</table>"
      ],
      "text/plain": [
       "[(37, 'ch', 'China', 9596960, 9326410, 270550, 1367485388, 0.45, 12.49, 7.53, 0.44)]"
      ]
     },
     "execution_count": 24,
     "metadata": {},
     "output_type": "execute_result"
    }
   ],
   "source": [
    "%%sql\n",
    "SELECT *\n",
    "FROM facts\n",
    "WHERE population == (SELECT MAX(population) FROM facts WHERE name <> 'World');"
   ]
  },
  {
   "cell_type": "markdown",
   "id": "fe53d0f1-bef0-47e3-a964-f6afcef24649",
   "metadata": {},
   "source": [
    "The country with the largest population is China, with a 1.3 billion population"
   ]
  },
  {
   "cell_type": "markdown",
   "id": "bc6d3b0f-de75-44f1-8001-54d70ec03ad7",
   "metadata": {},
   "source": [
    "# Average Population and Area\n",
    "\n",
    "Below I will explore density, which depends upon a country's area and population."
   ]
  },
  {
   "cell_type": "code",
   "execution_count": 29,
   "id": "d5ae1987-0e26-4bc6-9fb3-d61b9e96572d",
   "metadata": {},
   "outputs": [
    {
     "name": "stdout",
     "output_type": "stream",
     "text": [
      " * sqlite:///factbook.db\n",
      "Done.\n"
     ]
    },
    {
     "data": {
      "text/html": [
       "<table>\n",
       "    <thead>\n",
       "        <tr>\n",
       "            <th>avg_pop</th>\n",
       "            <th>avg_area</th>\n",
       "        </tr>\n",
       "    </thead>\n",
       "    <tbody>\n",
       "        <tr>\n",
       "            <td>32242666.56846473</td>\n",
       "            <td>555093.546184739</td>\n",
       "        </tr>\n",
       "    </tbody>\n",
       "</table>"
      ],
      "text/plain": [
       "[(32242666.56846473, 555093.546184739)]"
      ]
     },
     "execution_count": 29,
     "metadata": {},
     "output_type": "execute_result"
    }
   ],
   "source": [
    "%%sql\n",
    "SELECT AVG(population) as avg_pop, AVG(area) AS avg_area\n",
    "FROM facts\n",
    "WHERE name <> 'World';"
   ]
  },
  {
   "cell_type": "markdown",
   "id": "91acdd0f-c22c-44ac-9f7a-24c389cc3ba3",
   "metadata": {},
   "source": [
    "The average population is 32 million and the average area of each country is 555,000 square kilometers.\n",
    "\n",
    "In the below query I will search for countries whose population is above the world average as well as having a total area that is less than the world average. Density is calculated according to population and land mass."
   ]
  },
  {
   "cell_type": "code",
   "execution_count": 33,
   "id": "5ee94a0b-d528-4d62-b436-cd64022e455c",
   "metadata": {},
   "outputs": [
    {
     "name": "stdout",
     "output_type": "stream",
     "text": [
      " * sqlite:///factbook.db\n",
      "Done.\n"
     ]
    },
    {
     "data": {
      "text/html": [
       "<table>\n",
       "    <thead>\n",
       "        <tr>\n",
       "            <th>id</th>\n",
       "            <th>code</th>\n",
       "            <th>name</th>\n",
       "            <th>area</th>\n",
       "            <th>area_land</th>\n",
       "            <th>area_water</th>\n",
       "            <th>population</th>\n",
       "            <th>population_growth</th>\n",
       "            <th>birth_rate</th>\n",
       "            <th>death_rate</th>\n",
       "            <th>migration_rate</th>\n",
       "        </tr>\n",
       "    </thead>\n",
       "    <tbody>\n",
       "        <tr>\n",
       "            <td>14</td>\n",
       "            <td>bg</td>\n",
       "            <td>Bangladesh</td>\n",
       "            <td>148460</td>\n",
       "            <td>130170</td>\n",
       "            <td>18290</td>\n",
       "            <td>168957745</td>\n",
       "            <td>1.6</td>\n",
       "            <td>21.14</td>\n",
       "            <td>5.61</td>\n",
       "            <td>0.46</td>\n",
       "        </tr>\n",
       "        <tr>\n",
       "            <td>65</td>\n",
       "            <td>gm</td>\n",
       "            <td>Germany</td>\n",
       "            <td>357022</td>\n",
       "            <td>348672</td>\n",
       "            <td>8350</td>\n",
       "            <td>80854408</td>\n",
       "            <td>0.17</td>\n",
       "            <td>8.47</td>\n",
       "            <td>11.42</td>\n",
       "            <td>1.24</td>\n",
       "        </tr>\n",
       "        <tr>\n",
       "            <td>80</td>\n",
       "            <td>iz</td>\n",
       "            <td>Iraq</td>\n",
       "            <td>438317</td>\n",
       "            <td>437367</td>\n",
       "            <td>950</td>\n",
       "            <td>37056169</td>\n",
       "            <td>2.93</td>\n",
       "            <td>31.45</td>\n",
       "            <td>3.77</td>\n",
       "            <td>1.62</td>\n",
       "        </tr>\n",
       "        <tr>\n",
       "            <td>83</td>\n",
       "            <td>it</td>\n",
       "            <td>Italy</td>\n",
       "            <td>301340</td>\n",
       "            <td>294140</td>\n",
       "            <td>7200</td>\n",
       "            <td>61855120</td>\n",
       "            <td>0.27</td>\n",
       "            <td>8.74</td>\n",
       "            <td>10.19</td>\n",
       "            <td>4.1</td>\n",
       "        </tr>\n",
       "        <tr>\n",
       "            <td>85</td>\n",
       "            <td>ja</td>\n",
       "            <td>Japan</td>\n",
       "            <td>377915</td>\n",
       "            <td>364485</td>\n",
       "            <td>13430</td>\n",
       "            <td>126919659</td>\n",
       "            <td>0.16</td>\n",
       "            <td>7.93</td>\n",
       "            <td>9.51</td>\n",
       "            <td>0.0</td>\n",
       "        </tr>\n",
       "        <tr>\n",
       "            <td>91</td>\n",
       "            <td>ks</td>\n",
       "            <td>Korea, South</td>\n",
       "            <td>99720</td>\n",
       "            <td>96920</td>\n",
       "            <td>2800</td>\n",
       "            <td>49115196</td>\n",
       "            <td>0.14</td>\n",
       "            <td>8.19</td>\n",
       "            <td>6.75</td>\n",
       "            <td>0.0</td>\n",
       "        </tr>\n",
       "        <tr>\n",
       "            <td>120</td>\n",
       "            <td>mo</td>\n",
       "            <td>Morocco</td>\n",
       "            <td>446550</td>\n",
       "            <td>446300</td>\n",
       "            <td>250</td>\n",
       "            <td>33322699</td>\n",
       "            <td>1.0</td>\n",
       "            <td>18.2</td>\n",
       "            <td>4.81</td>\n",
       "            <td>3.36</td>\n",
       "        </tr>\n",
       "        <tr>\n",
       "            <td>138</td>\n",
       "            <td>rp</td>\n",
       "            <td>Philippines</td>\n",
       "            <td>300000</td>\n",
       "            <td>298170</td>\n",
       "            <td>1830</td>\n",
       "            <td>100998376</td>\n",
       "            <td>1.61</td>\n",
       "            <td>24.27</td>\n",
       "            <td>6.11</td>\n",
       "            <td>2.09</td>\n",
       "        </tr>\n",
       "        <tr>\n",
       "            <td>139</td>\n",
       "            <td>pl</td>\n",
       "            <td>Poland</td>\n",
       "            <td>312685</td>\n",
       "            <td>304255</td>\n",
       "            <td>8430</td>\n",
       "            <td>38562189</td>\n",
       "            <td>0.09</td>\n",
       "            <td>9.74</td>\n",
       "            <td>10.19</td>\n",
       "            <td>0.46</td>\n",
       "        </tr>\n",
       "        <tr>\n",
       "            <td>163</td>\n",
       "            <td>sp</td>\n",
       "            <td>Spain</td>\n",
       "            <td>505370</td>\n",
       "            <td>498980</td>\n",
       "            <td>6390</td>\n",
       "            <td>48146134</td>\n",
       "            <td>0.89</td>\n",
       "            <td>9.64</td>\n",
       "            <td>9.04</td>\n",
       "            <td>8.31</td>\n",
       "        </tr>\n",
       "        <tr>\n",
       "            <td>173</td>\n",
       "            <td>th</td>\n",
       "            <td>Thailand</td>\n",
       "            <td>513120</td>\n",
       "            <td>510890</td>\n",
       "            <td>2230</td>\n",
       "            <td>67976405</td>\n",
       "            <td>0.34</td>\n",
       "            <td>11.19</td>\n",
       "            <td>7.8</td>\n",
       "            <td>0.0</td>\n",
       "        </tr>\n",
       "        <tr>\n",
       "            <td>182</td>\n",
       "            <td>ug</td>\n",
       "            <td>Uganda</td>\n",
       "            <td>241038</td>\n",
       "            <td>197100</td>\n",
       "            <td>43938</td>\n",
       "            <td>37101745</td>\n",
       "            <td>3.24</td>\n",
       "            <td>43.79</td>\n",
       "            <td>10.69</td>\n",
       "            <td>0.74</td>\n",
       "        </tr>\n",
       "        <tr>\n",
       "            <td>185</td>\n",
       "            <td>uk</td>\n",
       "            <td>United Kingdom</td>\n",
       "            <td>243610</td>\n",
       "            <td>241930</td>\n",
       "            <td>1680</td>\n",
       "            <td>64088222</td>\n",
       "            <td>0.54</td>\n",
       "            <td>12.17</td>\n",
       "            <td>9.35</td>\n",
       "            <td>2.54</td>\n",
       "        </tr>\n",
       "        <tr>\n",
       "            <td>192</td>\n",
       "            <td>vm</td>\n",
       "            <td>Vietnam</td>\n",
       "            <td>331210</td>\n",
       "            <td>310070</td>\n",
       "            <td>21140</td>\n",
       "            <td>94348835</td>\n",
       "            <td>0.97</td>\n",
       "            <td>15.96</td>\n",
       "            <td>5.93</td>\n",
       "            <td>0.3</td>\n",
       "        </tr>\n",
       "    </tbody>\n",
       "</table>"
      ],
      "text/plain": [
       "[(14, 'bg', 'Bangladesh', 148460, 130170, 18290, 168957745, 1.6, 21.14, 5.61, 0.46),\n",
       " (65, 'gm', 'Germany', 357022, 348672, 8350, 80854408, 0.17, 8.47, 11.42, 1.24),\n",
       " (80, 'iz', 'Iraq', 438317, 437367, 950, 37056169, 2.93, 31.45, 3.77, 1.62),\n",
       " (83, 'it', 'Italy', 301340, 294140, 7200, 61855120, 0.27, 8.74, 10.19, 4.1),\n",
       " (85, 'ja', 'Japan', 377915, 364485, 13430, 126919659, 0.16, 7.93, 9.51, 0.0),\n",
       " (91, 'ks', 'Korea, South', 99720, 96920, 2800, 49115196, 0.14, 8.19, 6.75, 0.0),\n",
       " (120, 'mo', 'Morocco', 446550, 446300, 250, 33322699, 1.0, 18.2, 4.81, 3.36),\n",
       " (138, 'rp', 'Philippines', 300000, 298170, 1830, 100998376, 1.61, 24.27, 6.11, 2.09),\n",
       " (139, 'pl', 'Poland', 312685, 304255, 8430, 38562189, 0.09, 9.74, 10.19, 0.46),\n",
       " (163, 'sp', 'Spain', 505370, 498980, 6390, 48146134, 0.89, 9.64, 9.04, 8.31),\n",
       " (173, 'th', 'Thailand', 513120, 510890, 2230, 67976405, 0.34, 11.19, 7.8, 0.0),\n",
       " (182, 'ug', 'Uganda', 241038, 197100, 43938, 37101745, 3.24, 43.79, 10.69, 0.74),\n",
       " (185, 'uk', 'United Kingdom', 243610, 241930, 1680, 64088222, 0.54, 12.17, 9.35, 2.54),\n",
       " (192, 'vm', 'Vietnam', 331210, 310070, 21140, 94348835, 0.97, 15.96, 5.93, 0.3)]"
      ]
     },
     "execution_count": 33,
     "metadata": {},
     "output_type": "execute_result"
    }
   ],
   "source": [
    "%%sql\n",
    "SELECT *\n",
    "FROM facts\n",
    "WHERE population > (SELECT AVG(population) from facts WHERE name <> 'World')\n",
    "AND area < (SELECt AVG(area) FROM facts WHERE name <> 'World')\n"
   ]
  },
  {
   "cell_type": "code",
   "execution_count": null,
   "id": "86f7ed11-82ce-498a-8bf7-3d0559ec632e",
   "metadata": {},
   "outputs": [],
   "source": []
  }
 ],
 "metadata": {
  "kernelspec": {
   "display_name": "Python 3 (ipykernel)",
   "language": "python",
   "name": "python3"
  },
  "language_info": {
   "codemirror_mode": {
    "name": "ipython",
    "version": 3
   },
   "file_extension": ".py",
   "mimetype": "text/x-python",
   "name": "python",
   "nbconvert_exporter": "python",
   "pygments_lexer": "ipython3",
   "version": "3.9.7"
  }
 },
 "nbformat": 4,
 "nbformat_minor": 5
}
